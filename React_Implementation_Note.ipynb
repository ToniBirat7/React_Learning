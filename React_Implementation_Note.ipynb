{
 "cells": [
  {
   "cell_type": "markdown",
   "id": "718b1d53",
   "metadata": {},
   "source": [
    "Here, we'll have `Bullet Points` note for `React Implementation`\n"
   ]
  },
  {
   "cell_type": "markdown",
   "id": "17528d79",
   "metadata": {},
   "source": [
    "## **Notes About React Life Cycle**\n",
    "\n",
    "\n",
    "\n",
    "<hr>\n"
   ]
  },
  {
   "cell_type": "markdown",
   "id": "209188e0",
   "metadata": {},
   "source": [
    "## **Notes About Hooks**\n",
    "\n",
    "### `useState` Hook\n",
    "\n",
    "- It is used to manage the state in `Functional Component`.\n",
    "\n",
    "- It returns an `Array` of two elements. The first element is the current state value and the second element is the function that is used to update the state.\n",
    "\n",
    "- We can pass the initial state value to `useState` as an argument.\n",
    "\n",
    "- The state update function can take either the new state value or a callback function that receives the previous state value and returns the new state value.\n",
    "\n",
    "- When the state is updated, the component re-renders.\n",
    "\n",
    "<hr>\n",
    "\n",
    "### `useEffect` Hook\n",
    "\n",
    "- It runs on every render by default.\n",
    "\n",
    "- If we pass `[]` as a second argument, it runs only on `Component Mount`.\n",
    "\n",
    "- If we pass `[props, state]` as a second argument, it runs only when the `props` or `state` change.\n",
    "\n",
    "**CleanUpFunction**\n",
    "\n",
    "It is the callback that we return from the `callback` function passed to `useEffect`.\n",
    "\n",
    "- It runs before `Component Mount` and before every `Re-Render`. It cleans the side effects created by the previous render.\n",
    "\n",
    "<hr>\n",
    "\n",
    "### **`useRef` Hook**\n",
    "\n",
    "- It is used to access the `DOM` elements directly. It is excatly as `document.getElementById()` in `JavaScript`.\n",
    "\n",
    "- It can also be used to store a mutable value that does not cause a re-render when updated.\n",
    "\n",
    "- It returns a mutable `ref` object which has a property called `current`. We can access the `DOM` element using this `current` property.\n",
    "\n",
    "- We need to attach the `ref` object to the `JSX` element using the `ref` attribute.\n",
    "\n",
    "- The `ref` object is persisted for the full lifetime of the component.\n",
    "\n",
    "- It does not notify when its content changes. Mutating the `.current` property does not cause a re-render.\n",
    "\n",
    "- `ref` object takes the property to which we attach the `ref` object.\n",
    "\n",
    "**`ref` Object Properties**\n",
    "\n",
    "- `current`: It is the only property of the `ref` object. It is used to access the `DOM` element or the mutable value.\n",
    "\n",
    "If we've attach `ref` to an `input` element, then `ref.current` will point to that `input` element.\n",
    "\n",
    "Then, we can access the `styles` and `attributes` of that `input` element using `ref.current._property_name`.\n",
    "\n",
    "<hr>\n"
   ]
  },
  {
   "cell_type": "markdown",
   "id": "525300ff",
   "metadata": {},
   "source": [
    "## **Notes About Rendering**\n",
    "\n",
    "- If there's any change in `State` or `Props` of a component, the component will re-render.\n",
    "\n",
    "- The component in which the change has happened will re-render. But, it does not mean that the entire component will re-render. Only the part of the component where the change has happened will re-render.\n",
    "\n",
    "- If there is change in the `Parent Component`, the `Child Component` will also re-render, even if there is no change in the `State` or `Props` of the `Child Component`.\n",
    "\n",
    "**Memo**\n",
    "\n",
    "So we've a problem, if there is change in the `Parent Component`, the `Child Component` will also re-render, even if there is no change in the `State` or `Props` of the `Child Component`.\n",
    "\n",
    "This can be solved by using `React.memo`.\n",
    "\n",
    "With `React.memo`, if there is change in the `Parent Component`, the `Child Component` will not re-render, if there is no change in the `State` or `Props` of the `Child Component`.\n",
    "\n",
    "Only when there is change in the `State` or `Props` of the `Child Component`, the `Child Component` will re-render.\n",
    "\n",
    "- But, if there is change in the `Child Component`, the `Parent Component` will not re-render. Only the component in which the change has happened will re-render.\n"
   ]
  },
  {
   "cell_type": "markdown",
   "id": "592dd9f2",
   "metadata": {},
   "source": [
    "<hr>\n"
   ]
  },
  {
   "cell_type": "markdown",
   "id": "342e3796",
   "metadata": {},
   "source": [
    "## **Notes About `Event Handling`**\n",
    "\n",
    "- We should use camelCase for event names in `React`. For example, `onClick` instead of `onclick`.\n",
    "\n",
    "- We should pass a function as the event handler in `React`. For example, `onClick={handleClick}` instead of `onClick={handleClick()}`. If we use `onClick={handleClick()}`, the function will be called immediately when the component is rendered, instead of when the event occurs\n",
    "\n",
    "- We can catch the event object in the event handler function. For example, `onClick={(event) => handleClick(event)}`.\n",
    "\n",
    "**Event Object Properties**\n",
    "\n",
    "The object we catch in the event handler function has some properties. Some of them are:\n",
    "\n",
    "- `event.target`: It is the element that triggered the event.\n",
    "\n",
    "- `event.type`: It is the type of the event that was triggered.\n",
    "\n",
    "- `event.preventDefault()`: It is a method that prevents the default action of the event from happening. For example, in a form submission, it prevents the page from reloading.\n",
    "\n",
    "- `event.stopPropagation()`: It is a method that stops the event from propagating (bubbling up) to parent elements.\n",
    "\n",
    "- `event.currentTarget`: It is the element that the event handler is attached to.\n",
    "\n",
    "<hr>\n"
   ]
  }
 ],
 "metadata": {
  "language_info": {
   "name": "python"
  }
 },
 "nbformat": 4,
 "nbformat_minor": 5
}
