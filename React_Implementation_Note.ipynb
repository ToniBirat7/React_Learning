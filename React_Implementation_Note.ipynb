{
 "cells": [
  {
   "cell_type": "markdown",
   "id": "718b1d53",
   "metadata": {},
   "source": [
    "Here, we'll have `Bullet Points` note for `React Implementation`\n"
   ]
  },
  {
   "cell_type": "markdown",
   "id": "209188e0",
   "metadata": {},
   "source": [
    "## **Notes About Hooks**\n",
    "\n",
    "### `useState` Hook\n",
    "\n",
    "### `useEffect` Hook\n",
    "\n",
    "- It runs on every render by default.\n",
    "\n",
    "- If we pass `[]` as a second argument, it runs only on `Component Mount`.\n",
    "\n",
    "- If we pass `[props, state]` as a second argument, it runs only when the `props` or `state` change.\n",
    "\n",
    "**CleanUpFunction**\n",
    "\n",
    "It is the callback that we return from the `callback` function passed to `useEffect`.\n",
    "\n",
    "- It runs before `Component Mount` and before every `Re-Render`. It cleans the side effects created by the previous render.\n",
    "\n",
    "<hr>\n"
   ]
  },
  {
   "cell_type": "markdown",
   "id": "525300ff",
   "metadata": {},
   "source": [
    "## **Notes About Rendering**\n",
    "\n",
    "- If there's any change in `State` or `Props` of a component, the component will re-render.\n",
    "\n",
    "- The component in which the change has happened will re-render. But, it does not mean that the entire component will re-render. Only the part of the component where the change has happened will re-render.\n",
    "\n",
    "- If there is change in the `Parent Component`, the `Child Component` will also re-render, even if there is no change in the `State` or `Props` of the `Child Component`.\n",
    "\n",
    "- But, if there is change in the `Child Component`, the `Parent Component` will not re-render.\n"
   ]
  }
 ],
 "metadata": {
  "language_info": {
   "name": "python"
  }
 },
 "nbformat": 4,
 "nbformat_minor": 5
}
