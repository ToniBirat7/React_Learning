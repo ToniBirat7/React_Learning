{
 "cells": [
  {
   "cell_type": "markdown",
   "id": "2b578be4",
   "metadata": {},
   "source": [
    "## **Resources**\n",
    "\n",
    "Throughout this course, we have referenced several resources:\n",
    "\n",
    "[CodeEv](https://www.youtube.com/playlist?list=PLC3y8-rFHvwgg3vaYJgHGnModB54rxOk3)\n",
    "\n",
    "[PiyushGarg](https://www.youtube.com/playlist?list=PLinedj3B30sBm5wu3ixPRQ0gDqHJUlxQf)\n",
    "\n",
    "[JsMastery](https://www.youtube.com/watch?v=dCLhUialKPQ&t=1s)\n",
    "\n",
    "[SuperSimpleDev](https://www.youtube.com/watch?v=TtPXvEcE11E)\n",
    "\n",
    "<hr>\n",
    "\n",
    "These are the resources that we will be using throughout the course. "
   ]
  }
 ],
 "metadata": {
  "language_info": {
   "name": "python"
  }
 },
 "nbformat": 4,
 "nbformat_minor": 5
}
