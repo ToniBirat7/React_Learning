{
 "cells": [
  {
   "cell_type": "markdown",
   "id": "48b037c3",
   "metadata": {},
   "source": [
    "### **Resources**\n",
    "\n",
    "[Piyush_Garg_Playlist](https://www.youtube.com/playlist?list=PLinedj3B30sDP2CHN5P0lDD64yYZ0Nn4J)\n",
    "\n",
    "[Codevolution_Playlist](https://www.youtube.com/playlist?list=PLC3y8-rFHvwjOKd6gdf4QtV1uYNiQnruI)"
   ]
  },
  {
   "cell_type": "markdown",
   "id": "6486dace",
   "metadata": {},
   "source": [
    "## **Why NextJs if React is there?**\n",
    "<hr>\n",
    "\n",
    "When we `build` the React app we get the two files i.e. `index.html` and `js` file. We deploy these two files. When the user requests the file first the `Js` file will be downloaded. \n",
    "\n",
    "After downloading, before the rendering starts; all the `useEffect` hooks starts to run to fetch the data from `API`. The issue here is that due to `useEffect` hooks the website loading time increases which directly effects the `SEO`. \n",
    "\n",
    "To solve this problem we've `NextJs` framework. Remember `React` is a library not a framework. Also, the `React` official documentation also suggest us to use the `NextJs` framework when working with `React`\n",
    "\n",
    "### **NextJs Working**\n",
    "\n",
    "There is no any difference in writing `React` code and `NextJs` code, internally `NextJs` uses `React` only. But the main difference lies in how the rendering takes place after the production `Build` of the project. \n",
    "\n",
    "**React**\n",
    "\n",
    "It is client side rendering, all the heavy lifting is done on the client side. Actual `Js` runs on the client's browser due to which the rendering time increases.\n",
    "\n",
    "`React` uses `WebPack` bundler to build the project which is really `Slow`. \n",
    "\n",
    "`But`,\n",
    "\n",
    "**NextJs**\n",
    "\n",
    "In NextJs, the rendering takes on the `Server Side`. When a project is build all the data that is to be fetched or rendered in the client side is loaded and put in the final `HTML` and `CSS` file only which reduces all the burden for the client browser to load the data and improves performance as well as `SEO`. \n",
    "\n",
    "Also, in `React` when we want to `route` between pages we need to use `ReactRouterDom` but in the `NextJS` we've a built in support for `Routing` of the pages. It uses the `File System` for routing. \n",
    "\n",
    "Supports both `CSR` and `SSR`. \n",
    "\n",
    "`NextJs` uses `Rust` for bundling which is really fast. \n",
    "\n",
    "`NextJs` was built by `Vercel.com` therefore we can host any `NextJs` project for free in `Vercel.com`. \n",
    "\n",
    "`NextJs` provides optimizations for `Images` `Fonts` and `Scripts` to improve the performance. "
   ]
  },
  {
   "cell_type": "markdown",
   "id": "f0c6f9d2",
   "metadata": {},
   "source": [
    "## **Starting NextJs**\n",
    "\n",
    "`npx create-next-app@latest`\n",
    "\n",
    "Choose the project configuration according to the requirement of the project. \n",
    "\n",
    "**Folder Structure**\n",
    "\n",
    "At first the folder structure for the `NextJs` application might be overwhelming. \n",
    "\n",
    "Refer to this link for [ProjectFolderStructure](https://nextjs.org/docs/app/getting-started/project-structure). \n",
    "\n",
    "![Img](https://nextjs.org/_next/image?url=https%3A%2F%2Fh8DxKfmAPhn8O0p3.public.blob.vercel-storage.com%2Fdocs%2Fdark%2Ftop-level-folders.png&w=1920&q=75)\n",
    "\n",
    "**Top-level folders**\n",
    "\n",
    "`App` : App Router (Routing Only)\n",
    "\n",
    "`Pages` : Pages Router (For Backend, APIs)\n",
    "\n",
    "`Public` : Static Assets\n",
    "\n",
    "`Src` : Optional Application Folder\n",
    "\n",
    "`.next` : Will contain the build of our project. It is the build folder. \n",
    "\n",
    "\n",
    "**Top-level Files**\n",
    "\n",
    "Top-level files are used to configure your application, manage dependencies, run middleware, integrate monitoring tools, and define environment variables."
   ]
  },
  {
   "cell_type": "markdown",
   "id": "340b5a79",
   "metadata": {},
   "source": [
    "### **Cont ....**\n",
    "\n",
    "https://www.youtube.com/watch?v=FmerxXWD66g&list=PLC3y8-rFHvwjOKd6gdf4QtV1uYNiQnruI&index=3\n",
    "\n",
    "https://www.youtube.com/watch?v=F2aBPzonYHE&list=PLinedj3B30sDP2CHN5P0lDD64yYZ0Nn4J&index=2"
   ]
  }
 ],
 "metadata": {
  "language_info": {
   "name": "python"
  }
 },
 "nbformat": 4,
 "nbformat_minor": 5
}
